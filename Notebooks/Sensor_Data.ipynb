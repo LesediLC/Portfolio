{
 "cells": [
  {
   "cell_type": "markdown",
   "id": "fd7d5f0d-ebf5-41e4-b035-d10038b286ab",
   "metadata": {},
   "source": [
    "# CMI - Detect Behavior with Sensor Data"
   ]
  },
  {
   "cell_type": "markdown",
   "id": "55e5f674-172a-4816-b9a4-1c68e375df52",
   "metadata": {},
   "source": [
    "## 1. Background"
   ]
  },
  {
   "cell_type": "markdown",
   "id": "04621af5-be82-4676-baba-161b61641e5b",
   "metadata": {},
   "source": [
    "-- Insert Description --"
   ]
  },
  {
   "cell_type": "markdown",
   "id": "f7bd10dd-fbfe-48c7-901e-4657f8401c54",
   "metadata": {},
   "source": [
    "## 2. Import Libraries"
   ]
  },
  {
   "cell_type": "code",
   "execution_count": 2,
   "id": "f2cf9ff1-70cc-4e97-ace7-60b27c2823ff",
   "metadata": {},
   "outputs": [],
   "source": [
    "import numpy as np\n",
    "import pandas as pd\n",
    "\n",
    "import matplotlib.pyplot as plt\n",
    "import matplotlib.gridspec as gridspec\n",
    "import seaborn as sns"
   ]
  },
  {
   "cell_type": "code",
   "execution_count": 3,
   "id": "d87c40b0-73d8-4213-9342-102e413fc209",
   "metadata": {},
   "outputs": [],
   "source": [
    "sns.set(style=\"whitegrid\")\n",
    "%matplotlib inline"
   ]
  },
  {
   "cell_type": "markdown",
   "id": "aac4bfd0-5352-450f-900b-9822ae940c8d",
   "metadata": {},
   "source": [
    "## 3. Import Datasets"
   ]
  },
  {
   "cell_type": "markdown",
   "id": "e5255a1f-cd36-42b1-b5b1-24027cb209e8",
   "metadata": {},
   "source": [
    "Data is separated into two datasets: sensor data (sen) and demographic and physical characteristics of the participants (dem)."
   ]
  },
  {
   "cell_type": "code",
   "execution_count": 40,
   "id": "62902283-3def-4085-b9c0-288ff50f02d5",
   "metadata": {},
   "outputs": [
    {
     "name": "stdout",
     "output_type": "stream",
     "text": [
      "Loading data...\n",
      "\tSuccessfully loaded train_identity!\n",
      "\tSuccessfully loaded train_demographics!\n",
      "\tSuccessfully loaded test!\n",
      "\tSuccessfully loaded test_demographics!\n",
      "Data was successfully loaded!\n",
      "\n",
      "CPU times: user 4.88 s, sys: 592 ms, total: 5.47 s\n",
      "Wall time: 5.55 s\n"
     ]
    }
   ],
   "source": [
    "%%time\n",
    "\n",
    "# Import train and test CSV files\n",
    "folder_path = './SensorData/input/'\n",
    "print('Loading data...')\n",
    "\n",
    "train_sen_df = pd.read_csv(f'{folder_path}train.csv')\n",
    "print('\\tSuccessfully loaded train_identity!')\n",
    "\n",
    "train_dem_df = pd.read_csv(f'{folder_path}train_demographics.csv')\n",
    "print('\\tSuccessfully loaded train_demographics!')\n",
    "\n",
    "test_sen_df  = pd.read_csv(f'{folder_path}test.csv')\n",
    "print('\\tSuccessfully loaded test!')\n",
    "\n",
    "test_dem_df  = pd.read_csv(f'{folder_path}test_demographics.csv')\n",
    "print('\\tSuccessfully loaded test_demographics!')\n",
    "\n",
    "print('Data was successfully loaded!\\n')"
   ]
  },
  {
   "cell_type": "code",
   "execution_count": 44,
   "id": "bec433a3-7b34-4d08-b041-38f3c96de874",
   "metadata": {},
   "outputs": [
    {
     "name": "stdout",
     "output_type": "stream",
     "text": [
      "Train Sensor Data:\n",
      "  Number of Rows: 574945\n",
      "  Number of Columns: 341\n",
      "\n",
      "Train Demographics:\n",
      "  Number of Rows: 81\n",
      "  Number of Columns: 8\n",
      "\n",
      "Test Sensor Data:\n",
      "  Number of Rows: 107\n",
      "  Number of Columns: 336\n",
      "\n",
      "Test Demographics:\n",
      "  Number of Rows: 2\n",
      "  Number of Columns: 8\n",
      "\n"
     ]
    }
   ],
   "source": [
    "datasets = {\n",
    "    \"Train Sensor Data\": train_sen_df,\n",
    "    \"Train Demographics\": train_dem_df,\n",
    "    \"Test Sensor Data\": test_sen_df,\n",
    "    \"Test Demographics\": test_dem_df,\n",
    "}\n",
    "\n",
    "# Print shapes\n",
    "for name, df in datasets.items():\n",
    "    num_rows, num_cols = df.shape\n",
    "    print(f\"{name}:\")\n",
    "    print(f\"  Number of Rows: {num_rows}\")\n",
    "    print(f\"  Number of Columns: {num_cols}\\n\")"
   ]
  }
 ],
 "metadata": {
  "kernelspec": {
   "display_name": "Python 3 (ipykernel)",
   "language": "python",
   "name": "python3"
  },
  "language_info": {
   "codemirror_mode": {
    "name": "ipython",
    "version": 3
   },
   "file_extension": ".py",
   "mimetype": "text/x-python",
   "name": "python",
   "nbconvert_exporter": "python",
   "pygments_lexer": "ipython3",
   "version": "3.12.7"
  }
 },
 "nbformat": 4,
 "nbformat_minor": 5
}
