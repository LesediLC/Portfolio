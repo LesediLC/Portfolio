{
 "cells": [
  {
   "cell_type": "markdown",
   "id": "6c997466-8267-46c3-86a2-74573574ff4b",
   "metadata": {},
   "source": [
    "# CIBMTR - Equity in post-HCT Survival Predictions"
   ]
  },
  {
   "cell_type": "code",
   "execution_count": null,
   "id": "1c4dae65-2ba8-4d9a-911a-4e6a945e1fd1",
   "metadata": {},
   "outputs": [],
   "source": [
    "pip install numpy pandas"
   ]
  },
  {
   "cell_type": "code",
   "execution_count": 34,
   "id": "33422800-f9b3-44ea-9ac5-ac89285d2a8d",
   "metadata": {},
   "outputs": [],
   "source": [
    "import numpy as np\n",
    "import pandas as pd"
   ]
  },
  {
   "cell_type": "markdown",
   "id": "b9baef65-d91a-4ddb-a51a-269f456fdecc",
   "metadata": {},
   "source": [
    "## Data Exploration"
   ]
  },
  {
   "cell_type": "code",
   "execution_count": 38,
   "id": "88ee6da3-0f44-4efe-abd5-c9aa2dd3a17c",
   "metadata": {},
   "outputs": [],
   "source": [
    "train = pd.read_csv('./input/train.csv')\n",
    "test = pd.read_csv('./input/test.csv')"
   ]
  },
  {
   "cell_type": "code",
   "execution_count": 36,
   "id": "2e0332a2-b3f0-47eb-9e8e-4aacb792cbde",
   "metadata": {},
   "outputs": [
    {
     "data": {
      "text/plain": [
       "'/Users/lesedi/Documents/Portfolio/CIBMTR_post-HCT_Survival_Predictions'"
      ]
     },
     "execution_count": 36,
     "metadata": {},
     "output_type": "execute_result"
    }
   ],
   "source": [
    "os.getcwd()"
   ]
  },
  {
   "cell_type": "code",
   "execution_count": null,
   "id": "ba9ff684-cdae-48d1-86ca-f38b99627989",
   "metadata": {},
   "outputs": [],
   "source": []
  }
 ],
 "metadata": {
  "kernelspec": {
   "display_name": "Python 3 (ipykernel)",
   "language": "python",
   "name": "python3"
  },
  "language_info": {
   "codemirror_mode": {
    "name": "ipython",
    "version": 3
   },
   "file_extension": ".py",
   "mimetype": "text/x-python",
   "name": "python",
   "nbconvert_exporter": "python",
   "pygments_lexer": "ipython3",
   "version": "3.12.7"
  }
 },
 "nbformat": 4,
 "nbformat_minor": 5
}
